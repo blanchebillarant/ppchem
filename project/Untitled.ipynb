{
 "cells": [
  {
   "cell_type": "code",
   "execution_count": 1,
   "id": "1f94ae69-7df9-4f8d-aff2-8cc92e5b6d5b",
   "metadata": {},
   "outputs": [
    {
     "name": "stdout",
     "output_type": "stream",
     "text": [
      "Erreur dans la chaîne SMILES ou dans la conversion de la molécule.\n"
     ]
    },
    {
     "name": "stderr",
     "output_type": "stream",
     "text": [
      "[16:26:19] SMILES Parse Error: syntax error while parsing: CC(=O)OCC=CH2.N#CC=CH2.ClC(Cl)=C\n",
      "[16:26:19] SMILES Parse Error: Failed parsing SMILES 'CC(=O)OCC=CH2.N#CC=CH2.ClC(Cl)=C' for input: 'CC(=O)OCC=CH2.N#CC=CH2.ClC(Cl)=C'\n"
     ]
    }
   ],
   "source": [
    "from rdkit import Chem\n",
    "from rdkit.Chem import Draw\n",
    "\n",
    "# Votre chaîne SMILES\n",
    "smiles_string = \"CC(=O)OCC=CH2.N#CC=CH2.ClC(Cl)=C\"  # Exemple pour un copolymère basé sur vos monomères\n",
    "\n",
    "# Convertir la chaîne SMILES en un objet molécule\n",
    "molecule = Chem.MolFromSmiles(smiles_string)\n",
    "\n",
    "# Vérifier si la molécule a été correctement créée\n",
    "if molecule:\n",
    "    # Visualiser la molécule\n",
    "    image = Draw.MolToImage(molecule)\n",
    "    image.show()\n",
    "else:\n",
    "    print(\"Erreur dans la chaîne SMILES ou dans la conversion de la molécule.\")"
   ]
  },
  {
   "cell_type": "code",
   "execution_count": 2,
   "id": "8988ee57-58eb-4e3f-b55c-a91247375735",
   "metadata": {},
   "outputs": [
    {
     "name": "stderr",
     "output_type": "stream",
     "text": [
      "[16:27:43] SMILES Parse Error: syntax error while parsing: CC(=O)OCC=CH2\n",
      "[16:27:43] SMILES Parse Error: Failed parsing SMILES 'CC(=O)OCC=CH2' for input: 'CC(=O)OCC=CH2'\n",
      "[16:27:43] SMILES Parse Error: syntax error while parsing: N#CC=CH2\n",
      "[16:27:43] SMILES Parse Error: Failed parsing SMILES 'N#CC=CH2' for input: 'N#CC=CH2'\n"
     ]
    },
    {
     "name": "stdout",
     "output_type": "stream",
     "text": [
      "Erreur dans la chaîne SMILES ou dans la conversion de la molécule pour CC(=O)OCC=CH2.\n",
      "Erreur dans la chaîne SMILES ou dans la conversion de la molécule pour N#CC=CH2.\n"
     ]
    }
   ],
   "source": [
    "from rdkit import Chem\n",
    "from rdkit.Chem import Draw\n",
    "\n",
    "# Liste des chaînes SMILES pour chaque monomère\n",
    "smiles_strings = [\"CC(=O)OCC=CH2\", \"N#CC=CH2\", \"ClC(Cl)=C\"]\n",
    "\n",
    "# Traitement de chaque SMILES\n",
    "for smi in smiles_strings:\n",
    "    molecule = Chem.MolFromSmiles(smi)\n",
    "    if molecule:\n",
    "        # Visualiser la molécule\n",
    "        image = Draw.MolToImage(molecule)\n",
    "        image.show()\n",
    "    else:\n",
    "        print(f\"Erreur dans la chaîne SMILES ou dans la conversion de la molécule pour {smi}.\")\n",
    "        "
   ]
  },
  {
   "cell_type": "code",
   "execution_count": 3,
   "id": "f8c615a4-8b2a-479f-9881-768f5f2b4458",
   "metadata": {},
   "outputs": [],
   "source": [
    "from rdkit import Chem\n",
    "from rdkit.Chem import Draw\n",
    "\n",
    "# Liste des chaînes SMILES correctes pour chaque monomère\n",
    "smiles_strings = [\"CC(=O)OC=C\", \"N#CC=C\", \"ClC(Cl)=C\"]\n",
    "\n",
    "# Traitement de chaque SMILES\n",
    "for smi in smiles_strings:\n",
    "    molecule = Chem.MolFromSmiles(smi)\n",
    "    if molecule:\n",
    "        # Visualiser la molécule\n",
    "        image = Draw.MolToImage(molecule)\n",
    "        image.show()\n",
    "    else:\n",
    "        print(f\"Erreur dans la chaîne SMILES ou dans la conversion de la molécule pour {smi}.\")\n"
   ]
  },
  {
   "cell_type": "code",
   "execution_count": null,
   "id": "8a67e200-c2b9-4316-80a8-9705073d3b6b",
   "metadata": {},
   "outputs": [],
   "source": []
  }
 ],
 "metadata": {
  "kernelspec": {
   "display_name": "Python 3 (ipykernel)",
   "language": "python",
   "name": "python3"
  },
  "language_info": {
   "codemirror_mode": {
    "name": "ipython",
    "version": 3
   },
   "file_extension": ".py",
   "mimetype": "text/x-python",
   "name": "python",
   "nbconvert_exporter": "python",
   "pygments_lexer": "ipython3",
   "version": "3.10.13"
  }
 },
 "nbformat": 4,
 "nbformat_minor": 5
}
